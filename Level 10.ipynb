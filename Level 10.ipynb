{
 "cells": [
  {
   "cell_type": "markdown",
   "metadata": {},
   "source": [
    "# What are you looking at?\n",
    "\n",
    "Need to find len(a[30])\n",
    "\n",
    "where a = [1, 11, 21, 1211, 111221, ..."
   ]
  },
  {
   "cell_type": "code",
   "execution_count": 65,
   "metadata": {},
   "outputs": [],
   "source": [
    "a = '1'\n",
    "\n",
    "for i in range(30):\n",
    "    ans = list()\n",
    "    idx = 0\n",
    "    for j in range(1, len(a)):\n",
    "        if a[j] != a[j-1]:\n",
    "            ans.append(str(j-idx))\n",
    "            ans.append(a[j-1])\n",
    "            idx = j\n",
    "\n",
    "    ans.append(str(len(a)-idx))\n",
    "    ans.append(a[-1])\n",
    "    \n",
    "    a = ans"
   ]
  },
  {
   "cell_type": "code",
   "execution_count": 66,
   "metadata": {},
   "outputs": [
    {
     "data": {
      "text/plain": [
       "5808"
      ]
     },
     "execution_count": 66,
     "metadata": {},
     "output_type": "execute_result"
    }
   ],
   "source": [
    "len(\"\".join(ans))"
   ]
  },
  {
   "cell_type": "markdown",
   "metadata": {},
   "source": [
    "## Solution\n",
    "http://www.pythonchallenge.com/pc/return/5808.html"
   ]
  },
  {
   "cell_type": "code",
   "execution_count": null,
   "metadata": {},
   "outputs": [],
   "source": []
  }
 ],
 "metadata": {
  "kernelspec": {
   "display_name": "Python 3",
   "language": "python",
   "name": "python3"
  },
  "language_info": {
   "codemirror_mode": {
    "name": "ipython",
    "version": 3
   },
   "file_extension": ".py",
   "mimetype": "text/x-python",
   "name": "python",
   "nbconvert_exporter": "python",
   "pygments_lexer": "ipython3",
   "version": "3.7.3"
  }
 },
 "nbformat": 4,
 "nbformat_minor": 2
}
